{
  "nbformat": 4,
  "nbformat_minor": 0,
  "metadata": {
    "colab": {
      "name": "Chinese Poem Search based on GuwenBERT and scaNN",
      "provenance": [],
      "collapsed_sections": [],
      "toc_visible": true,
      "machine_shape": "hm",
      "authorship_tag": "ABX9TyMjOUzKwE+0/eYXEq183bla",
      "include_colab_link": true
    },
    "kernelspec": {
      "name": "python3",
      "display_name": "Python 3"
    },
    "language_info": {
      "name": "python"
    },
    "accelerator": "GPU",
    "widgets": {
      "application/vnd.jupyter.widget-state+json": {
        "d81190abe7104d318a82a59daac85018": {
          "model_module": "@jupyter-widgets/controls",
          "model_name": "HBoxModel",
          "state": {
            "_view_name": "HBoxView",
            "_dom_classes": [],
            "_model_name": "HBoxModel",
            "_view_module": "@jupyter-widgets/controls",
            "_model_module_version": "1.5.0",
            "_view_count": null,
            "_view_module_version": "1.5.0",
            "box_style": "",
            "layout": "IPY_MODEL_a0a63e1ac7d34a37afa1474055a65836",
            "_model_module": "@jupyter-widgets/controls",
            "children": [
              "IPY_MODEL_8368525cc371484482c5df594b303daf",
              "IPY_MODEL_093ce8e350494ec7a174370e25c751e0"
            ]
          }
        },
        "a0a63e1ac7d34a37afa1474055a65836": {
          "model_module": "@jupyter-widgets/base",
          "model_name": "LayoutModel",
          "state": {
            "_view_name": "LayoutView",
            "grid_template_rows": null,
            "right": null,
            "justify_content": null,
            "_view_module": "@jupyter-widgets/base",
            "overflow": null,
            "_model_module_version": "1.2.0",
            "_view_count": null,
            "flex_flow": null,
            "width": null,
            "min_width": null,
            "border": null,
            "align_items": null,
            "bottom": null,
            "_model_module": "@jupyter-widgets/base",
            "top": null,
            "grid_column": null,
            "overflow_y": null,
            "overflow_x": null,
            "grid_auto_flow": null,
            "grid_area": null,
            "grid_template_columns": null,
            "flex": null,
            "_model_name": "LayoutModel",
            "justify_items": null,
            "grid_row": null,
            "max_height": null,
            "align_content": null,
            "visibility": null,
            "align_self": null,
            "height": null,
            "min_height": null,
            "padding": null,
            "grid_auto_rows": null,
            "grid_gap": null,
            "max_width": null,
            "order": null,
            "_view_module_version": "1.2.0",
            "grid_template_areas": null,
            "object_position": null,
            "object_fit": null,
            "grid_auto_columns": null,
            "margin": null,
            "display": null,
            "left": null
          }
        },
        "8368525cc371484482c5df594b303daf": {
          "model_module": "@jupyter-widgets/controls",
          "model_name": "FloatProgressModel",
          "state": {
            "_view_name": "ProgressView",
            "style": "IPY_MODEL_d2296b14f9b94032baca9796294f51a7",
            "_dom_classes": [],
            "description": "Dynasty tang: 100%",
            "_model_name": "FloatProgressModel",
            "bar_style": "",
            "max": 58,
            "_view_module": "@jupyter-widgets/controls",
            "_model_module_version": "1.5.0",
            "value": 58,
            "_view_count": null,
            "_view_module_version": "1.5.0",
            "orientation": "horizontal",
            "min": 0,
            "description_tooltip": null,
            "_model_module": "@jupyter-widgets/controls",
            "layout": "IPY_MODEL_0bf9e72eea7748899b5de9437c7c8824"
          }
        },
        "093ce8e350494ec7a174370e25c751e0": {
          "model_module": "@jupyter-widgets/controls",
          "model_name": "HTMLModel",
          "state": {
            "_view_name": "HTMLView",
            "style": "IPY_MODEL_a760b7fe00304eb3abf9c6fdb73fa64b",
            "_dom_classes": [],
            "description": "",
            "_model_name": "HTMLModel",
            "placeholder": "​",
            "_view_module": "@jupyter-widgets/controls",
            "_model_module_version": "1.5.0",
            "value": " 58/58 [00:14&lt;00:00,  4.40it/s]",
            "_view_count": null,
            "_view_module_version": "1.5.0",
            "description_tooltip": null,
            "_model_module": "@jupyter-widgets/controls",
            "layout": "IPY_MODEL_b456042080664d758b9fa9ed801761dd"
          }
        },
        "d2296b14f9b94032baca9796294f51a7": {
          "model_module": "@jupyter-widgets/controls",
          "model_name": "ProgressStyleModel",
          "state": {
            "_view_name": "StyleView",
            "_model_name": "ProgressStyleModel",
            "description_width": "initial",
            "_view_module": "@jupyter-widgets/base",
            "_model_module_version": "1.5.0",
            "_view_count": null,
            "_view_module_version": "1.2.0",
            "bar_color": null,
            "_model_module": "@jupyter-widgets/controls"
          }
        },
        "0bf9e72eea7748899b5de9437c7c8824": {
          "model_module": "@jupyter-widgets/base",
          "model_name": "LayoutModel",
          "state": {
            "_view_name": "LayoutView",
            "grid_template_rows": null,
            "right": null,
            "justify_content": null,
            "_view_module": "@jupyter-widgets/base",
            "overflow": null,
            "_model_module_version": "1.2.0",
            "_view_count": null,
            "flex_flow": null,
            "width": null,
            "min_width": null,
            "border": null,
            "align_items": null,
            "bottom": null,
            "_model_module": "@jupyter-widgets/base",
            "top": null,
            "grid_column": null,
            "overflow_y": null,
            "overflow_x": null,
            "grid_auto_flow": null,
            "grid_area": null,
            "grid_template_columns": null,
            "flex": null,
            "_model_name": "LayoutModel",
            "justify_items": null,
            "grid_row": null,
            "max_height": null,
            "align_content": null,
            "visibility": null,
            "align_self": null,
            "height": null,
            "min_height": null,
            "padding": null,
            "grid_auto_rows": null,
            "grid_gap": null,
            "max_width": null,
            "order": null,
            "_view_module_version": "1.2.0",
            "grid_template_areas": null,
            "object_position": null,
            "object_fit": null,
            "grid_auto_columns": null,
            "margin": null,
            "display": null,
            "left": null
          }
        },
        "a760b7fe00304eb3abf9c6fdb73fa64b": {
          "model_module": "@jupyter-widgets/controls",
          "model_name": "DescriptionStyleModel",
          "state": {
            "_view_name": "StyleView",
            "_model_name": "DescriptionStyleModel",
            "description_width": "",
            "_view_module": "@jupyter-widgets/base",
            "_model_module_version": "1.5.0",
            "_view_count": null,
            "_view_module_version": "1.2.0",
            "_model_module": "@jupyter-widgets/controls"
          }
        },
        "b456042080664d758b9fa9ed801761dd": {
          "model_module": "@jupyter-widgets/base",
          "model_name": "LayoutModel",
          "state": {
            "_view_name": "LayoutView",
            "grid_template_rows": null,
            "right": null,
            "justify_content": null,
            "_view_module": "@jupyter-widgets/base",
            "overflow": null,
            "_model_module_version": "1.2.0",
            "_view_count": null,
            "flex_flow": null,
            "width": null,
            "min_width": null,
            "border": null,
            "align_items": null,
            "bottom": null,
            "_model_module": "@jupyter-widgets/base",
            "top": null,
            "grid_column": null,
            "overflow_y": null,
            "overflow_x": null,
            "grid_auto_flow": null,
            "grid_area": null,
            "grid_template_columns": null,
            "flex": null,
            "_model_name": "LayoutModel",
            "justify_items": null,
            "grid_row": null,
            "max_height": null,
            "align_content": null,
            "visibility": null,
            "align_self": null,
            "height": null,
            "min_height": null,
            "padding": null,
            "grid_auto_rows": null,
            "grid_gap": null,
            "max_width": null,
            "order": null,
            "_view_module_version": "1.2.0",
            "grid_template_areas": null,
            "object_position": null,
            "object_fit": null,
            "grid_auto_columns": null,
            "margin": null,
            "display": null,
            "left": null
          }
        },
        "27c1e9d7476e401eba481edfc30f2f91": {
          "model_module": "@jupyter-widgets/controls",
          "model_name": "HBoxModel",
          "state": {
            "_view_name": "HBoxView",
            "_dom_classes": [],
            "_model_name": "HBoxModel",
            "_view_module": "@jupyter-widgets/controls",
            "_model_module_version": "1.5.0",
            "_view_count": null,
            "_view_module_version": "1.5.0",
            "box_style": "",
            "layout": "IPY_MODEL_31de6ecfbb734f289bf63cecc110e19a",
            "_model_module": "@jupyter-widgets/controls",
            "children": [
              "IPY_MODEL_3d7b70c6497340a78d721379676093bd",
              "IPY_MODEL_15911ce611b44466bfa34eee95c203db"
            ]
          }
        },
        "31de6ecfbb734f289bf63cecc110e19a": {
          "model_module": "@jupyter-widgets/base",
          "model_name": "LayoutModel",
          "state": {
            "_view_name": "LayoutView",
            "grid_template_rows": null,
            "right": null,
            "justify_content": null,
            "_view_module": "@jupyter-widgets/base",
            "overflow": null,
            "_model_module_version": "1.2.0",
            "_view_count": null,
            "flex_flow": null,
            "width": null,
            "min_width": null,
            "border": null,
            "align_items": null,
            "bottom": null,
            "_model_module": "@jupyter-widgets/base",
            "top": null,
            "grid_column": null,
            "overflow_y": null,
            "overflow_x": null,
            "grid_auto_flow": null,
            "grid_area": null,
            "grid_template_columns": null,
            "flex": null,
            "_model_name": "LayoutModel",
            "justify_items": null,
            "grid_row": null,
            "max_height": null,
            "align_content": null,
            "visibility": null,
            "align_self": null,
            "height": null,
            "min_height": null,
            "padding": null,
            "grid_auto_rows": null,
            "grid_gap": null,
            "max_width": null,
            "order": null,
            "_view_module_version": "1.2.0",
            "grid_template_areas": null,
            "object_position": null,
            "object_fit": null,
            "grid_auto_columns": null,
            "margin": null,
            "display": null,
            "left": null
          }
        },
        "3d7b70c6497340a78d721379676093bd": {
          "model_module": "@jupyter-widgets/controls",
          "model_name": "FloatProgressModel",
          "state": {
            "_view_name": "ProgressView",
            "style": "IPY_MODEL_9b051af280c74b9095b05dfeb48732a5",
            "_dom_classes": [],
            "description": "Dynasty song: 100%",
            "_model_name": "FloatProgressModel",
            "bar_style": "",
            "max": 255,
            "_view_module": "@jupyter-widgets/controls",
            "_model_module_version": "1.5.0",
            "value": 255,
            "_view_count": null,
            "_view_module_version": "1.5.0",
            "orientation": "horizontal",
            "min": 0,
            "description_tooltip": null,
            "_model_module": "@jupyter-widgets/controls",
            "layout": "IPY_MODEL_9cb5706e111c4b51b08088397542730d"
          }
        },
        "15911ce611b44466bfa34eee95c203db": {
          "model_module": "@jupyter-widgets/controls",
          "model_name": "HTMLModel",
          "state": {
            "_view_name": "HTMLView",
            "style": "IPY_MODEL_c73e62f8377f46418149a15cbc490861",
            "_dom_classes": [],
            "description": "",
            "_model_name": "HTMLModel",
            "placeholder": "​",
            "_view_module": "@jupyter-widgets/controls",
            "_model_module_version": "1.5.0",
            "value": " 255/255 [00:59&lt;00:00,  4.80it/s]",
            "_view_count": null,
            "_view_module_version": "1.5.0",
            "description_tooltip": null,
            "_model_module": "@jupyter-widgets/controls",
            "layout": "IPY_MODEL_87030560b04444d08402aa3a91df716d"
          }
        },
        "9b051af280c74b9095b05dfeb48732a5": {
          "model_module": "@jupyter-widgets/controls",
          "model_name": "ProgressStyleModel",
          "state": {
            "_view_name": "StyleView",
            "_model_name": "ProgressStyleModel",
            "description_width": "initial",
            "_view_module": "@jupyter-widgets/base",
            "_model_module_version": "1.5.0",
            "_view_count": null,
            "_view_module_version": "1.2.0",
            "bar_color": null,
            "_model_module": "@jupyter-widgets/controls"
          }
        },
        "9cb5706e111c4b51b08088397542730d": {
          "model_module": "@jupyter-widgets/base",
          "model_name": "LayoutModel",
          "state": {
            "_view_name": "LayoutView",
            "grid_template_rows": null,
            "right": null,
            "justify_content": null,
            "_view_module": "@jupyter-widgets/base",
            "overflow": null,
            "_model_module_version": "1.2.0",
            "_view_count": null,
            "flex_flow": null,
            "width": null,
            "min_width": null,
            "border": null,
            "align_items": null,
            "bottom": null,
            "_model_module": "@jupyter-widgets/base",
            "top": null,
            "grid_column": null,
            "overflow_y": null,
            "overflow_x": null,
            "grid_auto_flow": null,
            "grid_area": null,
            "grid_template_columns": null,
            "flex": null,
            "_model_name": "LayoutModel",
            "justify_items": null,
            "grid_row": null,
            "max_height": null,
            "align_content": null,
            "visibility": null,
            "align_self": null,
            "height": null,
            "min_height": null,
            "padding": null,
            "grid_auto_rows": null,
            "grid_gap": null,
            "max_width": null,
            "order": null,
            "_view_module_version": "1.2.0",
            "grid_template_areas": null,
            "object_position": null,
            "object_fit": null,
            "grid_auto_columns": null,
            "margin": null,
            "display": null,
            "left": null
          }
        },
        "c73e62f8377f46418149a15cbc490861": {
          "model_module": "@jupyter-widgets/controls",
          "model_name": "DescriptionStyleModel",
          "state": {
            "_view_name": "StyleView",
            "_model_name": "DescriptionStyleModel",
            "description_width": "",
            "_view_module": "@jupyter-widgets/base",
            "_model_module_version": "1.5.0",
            "_view_count": null,
            "_view_module_version": "1.2.0",
            "_model_module": "@jupyter-widgets/controls"
          }
        },
        "87030560b04444d08402aa3a91df716d": {
          "model_module": "@jupyter-widgets/base",
          "model_name": "LayoutModel",
          "state": {
            "_view_name": "LayoutView",
            "grid_template_rows": null,
            "right": null,
            "justify_content": null,
            "_view_module": "@jupyter-widgets/base",
            "overflow": null,
            "_model_module_version": "1.2.0",
            "_view_count": null,
            "flex_flow": null,
            "width": null,
            "min_width": null,
            "border": null,
            "align_items": null,
            "bottom": null,
            "_model_module": "@jupyter-widgets/base",
            "top": null,
            "grid_column": null,
            "overflow_y": null,
            "overflow_x": null,
            "grid_auto_flow": null,
            "grid_area": null,
            "grid_template_columns": null,
            "flex": null,
            "_model_name": "LayoutModel",
            "justify_items": null,
            "grid_row": null,
            "max_height": null,
            "align_content": null,
            "visibility": null,
            "align_self": null,
            "height": null,
            "min_height": null,
            "padding": null,
            "grid_auto_rows": null,
            "grid_gap": null,
            "max_width": null,
            "order": null,
            "_view_module_version": "1.2.0",
            "grid_template_areas": null,
            "object_position": null,
            "object_fit": null,
            "grid_auto_columns": null,
            "margin": null,
            "display": null,
            "left": null
          }
        },
        "1d722333afb54bbe8ef534063bc52371": {
          "model_module": "@jupyter-widgets/controls",
          "model_name": "HBoxModel",
          "state": {
            "_view_name": "HBoxView",
            "_dom_classes": [],
            "_model_name": "HBoxModel",
            "_view_module": "@jupyter-widgets/controls",
            "_model_module_version": "1.5.0",
            "_view_count": null,
            "_view_module_version": "1.5.0",
            "box_style": "",
            "layout": "IPY_MODEL_ad34db12364c455d9e6e5b357a509177",
            "_model_module": "@jupyter-widgets/controls",
            "children": [
              "IPY_MODEL_5ee5c1cfde6a44a09cffb79cc7f234ad",
              "IPY_MODEL_cc5f7e66cfcb418f9531643f44344bed"
            ]
          }
        },
        "ad34db12364c455d9e6e5b357a509177": {
          "model_module": "@jupyter-widgets/base",
          "model_name": "LayoutModel",
          "state": {
            "_view_name": "LayoutView",
            "grid_template_rows": null,
            "right": null,
            "justify_content": null,
            "_view_module": "@jupyter-widgets/base",
            "overflow": null,
            "_model_module_version": "1.2.0",
            "_view_count": null,
            "flex_flow": null,
            "width": null,
            "min_width": null,
            "border": null,
            "align_items": null,
            "bottom": null,
            "_model_module": "@jupyter-widgets/base",
            "top": null,
            "grid_column": null,
            "overflow_y": null,
            "overflow_x": null,
            "grid_auto_flow": null,
            "grid_area": null,
            "grid_template_columns": null,
            "flex": null,
            "_model_name": "LayoutModel",
            "justify_items": null,
            "grid_row": null,
            "max_height": null,
            "align_content": null,
            "visibility": null,
            "align_self": null,
            "height": null,
            "min_height": null,
            "padding": null,
            "grid_auto_rows": null,
            "grid_gap": null,
            "max_width": null,
            "order": null,
            "_view_module_version": "1.2.0",
            "grid_template_areas": null,
            "object_position": null,
            "object_fit": null,
            "grid_auto_columns": null,
            "margin": null,
            "display": null,
            "left": null
          }
        },
        "5ee5c1cfde6a44a09cffb79cc7f234ad": {
          "model_module": "@jupyter-widgets/controls",
          "model_name": "FloatProgressModel",
          "state": {
            "_view_name": "ProgressView",
            "style": "IPY_MODEL_441e2c7747f844489a90c11a451183ad",
            "_dom_classes": [],
            "description": "break up into sentences: 100%",
            "_model_name": "FloatProgressModel",
            "bar_style": "",
            "max": 311860,
            "_view_module": "@jupyter-widgets/controls",
            "_model_module_version": "1.5.0",
            "value": 311860,
            "_view_count": null,
            "_view_module_version": "1.5.0",
            "orientation": "horizontal",
            "min": 0,
            "description_tooltip": null,
            "_model_module": "@jupyter-widgets/controls",
            "layout": "IPY_MODEL_3435c9832c434f46a5fd6e1f31af61f2"
          }
        },
        "cc5f7e66cfcb418f9531643f44344bed": {
          "model_module": "@jupyter-widgets/controls",
          "model_name": "HTMLModel",
          "state": {
            "_view_name": "HTMLView",
            "style": "IPY_MODEL_bd2048ad4ee647f2a2fc7b47869e63d0",
            "_dom_classes": [],
            "description": "",
            "_model_name": "HTMLModel",
            "placeholder": "​",
            "_view_module": "@jupyter-widgets/controls",
            "_model_module_version": "1.5.0",
            "value": " 311860/311860 [00:52&lt;00:00, 8694.01it/s]",
            "_view_count": null,
            "_view_module_version": "1.5.0",
            "description_tooltip": null,
            "_model_module": "@jupyter-widgets/controls",
            "layout": "IPY_MODEL_f2a89fe2fd814488b15d3aa5e142e474"
          }
        },
        "441e2c7747f844489a90c11a451183ad": {
          "model_module": "@jupyter-widgets/controls",
          "model_name": "ProgressStyleModel",
          "state": {
            "_view_name": "StyleView",
            "_model_name": "ProgressStyleModel",
            "description_width": "initial",
            "_view_module": "@jupyter-widgets/base",
            "_model_module_version": "1.5.0",
            "_view_count": null,
            "_view_module_version": "1.2.0",
            "bar_color": null,
            "_model_module": "@jupyter-widgets/controls"
          }
        },
        "3435c9832c434f46a5fd6e1f31af61f2": {
          "model_module": "@jupyter-widgets/base",
          "model_name": "LayoutModel",
          "state": {
            "_view_name": "LayoutView",
            "grid_template_rows": null,
            "right": null,
            "justify_content": null,
            "_view_module": "@jupyter-widgets/base",
            "overflow": null,
            "_model_module_version": "1.2.0",
            "_view_count": null,
            "flex_flow": null,
            "width": null,
            "min_width": null,
            "border": null,
            "align_items": null,
            "bottom": null,
            "_model_module": "@jupyter-widgets/base",
            "top": null,
            "grid_column": null,
            "overflow_y": null,
            "overflow_x": null,
            "grid_auto_flow": null,
            "grid_area": null,
            "grid_template_columns": null,
            "flex": null,
            "_model_name": "LayoutModel",
            "justify_items": null,
            "grid_row": null,
            "max_height": null,
            "align_content": null,
            "visibility": null,
            "align_self": null,
            "height": null,
            "min_height": null,
            "padding": null,
            "grid_auto_rows": null,
            "grid_gap": null,
            "max_width": null,
            "order": null,
            "_view_module_version": "1.2.0",
            "grid_template_areas": null,
            "object_position": null,
            "object_fit": null,
            "grid_auto_columns": null,
            "margin": null,
            "display": null,
            "left": null
          }
        },
        "bd2048ad4ee647f2a2fc7b47869e63d0": {
          "model_module": "@jupyter-widgets/controls",
          "model_name": "DescriptionStyleModel",
          "state": {
            "_view_name": "StyleView",
            "_model_name": "DescriptionStyleModel",
            "description_width": "",
            "_view_module": "@jupyter-widgets/base",
            "_model_module_version": "1.5.0",
            "_view_count": null,
            "_view_module_version": "1.2.0",
            "_model_module": "@jupyter-widgets/controls"
          }
        },
        "f2a89fe2fd814488b15d3aa5e142e474": {
          "model_module": "@jupyter-widgets/base",
          "model_name": "LayoutModel",
          "state": {
            "_view_name": "LayoutView",
            "grid_template_rows": null,
            "right": null,
            "justify_content": null,
            "_view_module": "@jupyter-widgets/base",
            "overflow": null,
            "_model_module_version": "1.2.0",
            "_view_count": null,
            "flex_flow": null,
            "width": null,
            "min_width": null,
            "border": null,
            "align_items": null,
            "bottom": null,
            "_model_module": "@jupyter-widgets/base",
            "top": null,
            "grid_column": null,
            "overflow_y": null,
            "overflow_x": null,
            "grid_auto_flow": null,
            "grid_area": null,
            "grid_template_columns": null,
            "flex": null,
            "_model_name": "LayoutModel",
            "justify_items": null,
            "grid_row": null,
            "max_height": null,
            "align_content": null,
            "visibility": null,
            "align_self": null,
            "height": null,
            "min_height": null,
            "padding": null,
            "grid_auto_rows": null,
            "grid_gap": null,
            "max_width": null,
            "order": null,
            "_view_module_version": "1.2.0",
            "grid_template_areas": null,
            "object_position": null,
            "object_fit": null,
            "grid_auto_columns": null,
            "margin": null,
            "display": null,
            "left": null
          }
        },
        "009de95f30e44351adf5aa63da53e684": {
          "model_module": "@jupyter-widgets/controls",
          "model_name": "HBoxModel",
          "state": {
            "_view_name": "HBoxView",
            "_dom_classes": [],
            "_model_name": "HBoxModel",
            "_view_module": "@jupyter-widgets/controls",
            "_model_module_version": "1.5.0",
            "_view_count": null,
            "_view_module_version": "1.5.0",
            "box_style": "",
            "layout": "IPY_MODEL_a8df418fe9404a369cadf97c10cdf602",
            "_model_module": "@jupyter-widgets/controls",
            "children": [
              "IPY_MODEL_9bc5d424f6f54b52a01286fb5651e93c",
              "IPY_MODEL_4b60cf6b177641259be61d1f6c235a74"
            ]
          }
        },
        "a8df418fe9404a369cadf97c10cdf602": {
          "model_module": "@jupyter-widgets/base",
          "model_name": "LayoutModel",
          "state": {
            "_view_name": "LayoutView",
            "grid_template_rows": null,
            "right": null,
            "justify_content": null,
            "_view_module": "@jupyter-widgets/base",
            "overflow": null,
            "_model_module_version": "1.2.0",
            "_view_count": null,
            "flex_flow": null,
            "width": null,
            "min_width": null,
            "border": null,
            "align_items": null,
            "bottom": null,
            "_model_module": "@jupyter-widgets/base",
            "top": null,
            "grid_column": null,
            "overflow_y": null,
            "overflow_x": null,
            "grid_auto_flow": null,
            "grid_area": null,
            "grid_template_columns": null,
            "flex": null,
            "_model_name": "LayoutModel",
            "justify_items": null,
            "grid_row": null,
            "max_height": null,
            "align_content": null,
            "visibility": null,
            "align_self": null,
            "height": null,
            "min_height": null,
            "padding": null,
            "grid_auto_rows": null,
            "grid_gap": null,
            "max_width": null,
            "order": null,
            "_view_module_version": "1.2.0",
            "grid_template_areas": null,
            "object_position": null,
            "object_fit": null,
            "grid_auto_columns": null,
            "margin": null,
            "display": null,
            "left": null
          }
        },
        "9bc5d424f6f54b52a01286fb5651e93c": {
          "model_module": "@jupyter-widgets/controls",
          "model_name": "FloatProgressModel",
          "state": {
            "_view_name": "ProgressView",
            "style": "IPY_MODEL_e42ba7e4f6fb416a9d2eb32ab3dc0194",
            "_dom_classes": [],
            "description": "Fetch embeddings: 100%",
            "_model_name": "FloatProgressModel",
            "bar_style": "",
            "max": 1340301,
            "_view_module": "@jupyter-widgets/controls",
            "_model_module_version": "1.5.0",
            "value": 1340301,
            "_view_count": null,
            "_view_module_version": "1.5.0",
            "orientation": "horizontal",
            "min": 0,
            "description_tooltip": null,
            "_model_module": "@jupyter-widgets/controls",
            "layout": "IPY_MODEL_5fa59553fc734558a924631e28ddcde7"
          }
        },
        "4b60cf6b177641259be61d1f6c235a74": {
          "model_module": "@jupyter-widgets/controls",
          "model_name": "HTMLModel",
          "state": {
            "_view_name": "HTMLView",
            "style": "IPY_MODEL_ac66a5526c124164b26a9562f95cd521",
            "_dom_classes": [],
            "description": "",
            "_model_name": "HTMLModel",
            "placeholder": "​",
            "_view_module": "@jupyter-widgets/controls",
            "_model_module_version": "1.5.0",
            "value": " 1340301/1340301 [24:23&lt;00:00, 638.77it/s]",
            "_view_count": null,
            "_view_module_version": "1.5.0",
            "description_tooltip": null,
            "_model_module": "@jupyter-widgets/controls",
            "layout": "IPY_MODEL_d9040317a58d449381b59180dcd5bf77"
          }
        },
        "e42ba7e4f6fb416a9d2eb32ab3dc0194": {
          "model_module": "@jupyter-widgets/controls",
          "model_name": "ProgressStyleModel",
          "state": {
            "_view_name": "StyleView",
            "_model_name": "ProgressStyleModel",
            "description_width": "initial",
            "_view_module": "@jupyter-widgets/base",
            "_model_module_version": "1.5.0",
            "_view_count": null,
            "_view_module_version": "1.2.0",
            "bar_color": null,
            "_model_module": "@jupyter-widgets/controls"
          }
        },
        "5fa59553fc734558a924631e28ddcde7": {
          "model_module": "@jupyter-widgets/base",
          "model_name": "LayoutModel",
          "state": {
            "_view_name": "LayoutView",
            "grid_template_rows": null,
            "right": null,
            "justify_content": null,
            "_view_module": "@jupyter-widgets/base",
            "overflow": null,
            "_model_module_version": "1.2.0",
            "_view_count": null,
            "flex_flow": null,
            "width": null,
            "min_width": null,
            "border": null,
            "align_items": null,
            "bottom": null,
            "_model_module": "@jupyter-widgets/base",
            "top": null,
            "grid_column": null,
            "overflow_y": null,
            "overflow_x": null,
            "grid_auto_flow": null,
            "grid_area": null,
            "grid_template_columns": null,
            "flex": null,
            "_model_name": "LayoutModel",
            "justify_items": null,
            "grid_row": null,
            "max_height": null,
            "align_content": null,
            "visibility": null,
            "align_self": null,
            "height": null,
            "min_height": null,
            "padding": null,
            "grid_auto_rows": null,
            "grid_gap": null,
            "max_width": null,
            "order": null,
            "_view_module_version": "1.2.0",
            "grid_template_areas": null,
            "object_position": null,
            "object_fit": null,
            "grid_auto_columns": null,
            "margin": null,
            "display": null,
            "left": null
          }
        },
        "ac66a5526c124164b26a9562f95cd521": {
          "model_module": "@jupyter-widgets/controls",
          "model_name": "DescriptionStyleModel",
          "state": {
            "_view_name": "StyleView",
            "_model_name": "DescriptionStyleModel",
            "description_width": "",
            "_view_module": "@jupyter-widgets/base",
            "_model_module_version": "1.5.0",
            "_view_count": null,
            "_view_module_version": "1.2.0",
            "_model_module": "@jupyter-widgets/controls"
          }
        },
        "d9040317a58d449381b59180dcd5bf77": {
          "model_module": "@jupyter-widgets/base",
          "model_name": "LayoutModel",
          "state": {
            "_view_name": "LayoutView",
            "grid_template_rows": null,
            "right": null,
            "justify_content": null,
            "_view_module": "@jupyter-widgets/base",
            "overflow": null,
            "_model_module_version": "1.2.0",
            "_view_count": null,
            "flex_flow": null,
            "width": null,
            "min_width": null,
            "border": null,
            "align_items": null,
            "bottom": null,
            "_model_module": "@jupyter-widgets/base",
            "top": null,
            "grid_column": null,
            "overflow_y": null,
            "overflow_x": null,
            "grid_auto_flow": null,
            "grid_area": null,
            "grid_template_columns": null,
            "flex": null,
            "_model_name": "LayoutModel",
            "justify_items": null,
            "grid_row": null,
            "max_height": null,
            "align_content": null,
            "visibility": null,
            "align_self": null,
            "height": null,
            "min_height": null,
            "padding": null,
            "grid_auto_rows": null,
            "grid_gap": null,
            "max_width": null,
            "order": null,
            "_view_module_version": "1.2.0",
            "grid_template_areas": null,
            "object_position": null,
            "object_fit": null,
            "grid_auto_columns": null,
            "margin": null,
            "display": null,
            "left": null
          }
        }
      }
    }
  },
  "cells": [
    {
      "cell_type": "markdown",
      "metadata": {
        "id": "view-in-github",
        "colab_type": "text"
      },
      "source": [
        "<a href=\"https://colab.research.google.com/github/hululuzhu/chinese-poem-search/blob/main/Chinese_Poem_Search_based_on_GuwenBERT_and_scaNN.ipynb\" target=\"_parent\"><img src=\"https://colab.research.google.com/assets/colab-badge.svg\" alt=\"Open In Colab\"/></a>"
      ]
    },
    {
      "cell_type": "markdown",
      "metadata": {
        "id": "oLqw917vqOLw"
      },
      "source": [
        "# This is an end-to-end colab to search for most relevant Chinese tang/song dynasty poems given your string query.\n",
        "\n",
        "Sample\n",
        "\n",
        "```\n",
        "    输入 你看那长江的水从天上来\n",
        "      1: 李白 [鼓吹曲辞将进酒]\n",
        "      君不见黄河之水天上来，奔流到海不复回．．．\n",
        "      2: 马之纯 [新亭其二]\n",
        "      新亭见说在山头，看见江河衮衮流．．．\n",
        "      3: 释善果 [偈其五]\n",
        "      苏州有，常州有，吸尽西江只一口．．．\n",
        "\n",
        "\n",
        "    输入：忆长安\n",
        "      1: 宋祁 [农阁]\n",
        "      ...看云记巫峡，望日省长安。...\n",
        "      2: 徐凝 [寄白司马]\n",
        "      ...争遣江州白司马，五年风景忆长安。\n",
        "      3: 崔涂 [春晚怀进士韦澹]\n",
        "      ...二年春怅望，不似在长安。\n",
        "```\n",
        "\n",
        "Some notes:\n",
        "\n",
        "*   Based on [guwenBERT](https://huggingface.co/ethanyt/guwenbert-base) (an ancient chinese pre-trained [RoBERTa](https://arxiv.org/abs/1907.11692) language model), [HF Transformers](https://github.com/huggingface/transformers) (model inference), and [Google sanNN](https://github.com/google-research/google-research/tree/master/scann) (approximate nearest neighbor search)\n",
        "*   We fetch chinese poems from this [chinese-poetry github project](https://github.com/chinese-poetry/chinese-poetry), and divide to sentence pieces\n",
        "*   Converted to simplified Chinese input using [chinese-converter package](https://github.com/zachary822/chinese-converter), please skip if you prefer traditional Chinese\n",
        "*   Use the last layer hidden output as embedding to balance quality and memory constraints, [literature](http://jalammar.github.io/illustrated-bert/) recommends last 4 layers but cannot afford memory\n",
        "*   Note the colab runs successfully with high RAM GPU colab instance (paid class, Tesla P100 GPU with 16G GPU ram, 2 core CPU with 24G ram). If you encourter with OOM issue, reduce the `SAMPLE_SIZE` value will help, or consider to upgrade to paid colab class ($9.99 per month with awesome GPU!!).\n",
        "*   Colab takes about 1 hour to fully load/transform/initialize, after that, the inference should take <100ms per call.\n",
        "\n"
      ]
    },
    {
      "cell_type": "markdown",
      "metadata": {
        "id": "WKi5pzXVpuuk"
      },
      "source": [
        "## Verify GPU is used\n",
        "\n",
        "\n",
        "\n",
        "*   Embedding lookup is pretty slow for CPU\n",
        "*   HuggingFace AutoModel does not work with TPU easily\n",
        "\n"
      ]
    },
    {
      "cell_type": "code",
      "metadata": {
        "colab": {
          "base_uri": "https://localhost:8080/"
        },
        "id": "g2nriByN5eRr",
        "outputId": "8b4c6183-debf-4d9c-ade0-25248c1f0281"
      },
      "source": [
        "!nvidia-smi -L"
      ],
      "execution_count": 25,
      "outputs": [
        {
          "output_type": "stream",
          "text": [
            "GPU 0: Tesla P100-PCIE-16GB (UUID: GPU-72982998-4d8c-0b67-3619-ed640a491dfa)\n"
          ],
          "name": "stdout"
        }
      ]
    },
    {
      "cell_type": "markdown",
      "metadata": {
        "id": "xPxIdWfop8oB"
      },
      "source": [
        "## Imports"
      ]
    },
    {
      "cell_type": "code",
      "metadata": {
        "id": "c214ftqjxu5C"
      },
      "source": [
        "import json\n",
        "import urllib.request\n",
        "!pip install -q \"tqdm>=4.36.1\" > /tmp/na\n",
        "from tqdm.notebook import tqdm\n",
        "!pip install chinese-converter > /tmp/na\n",
        "import chinese_converter\n",
        "import pickle\n",
        "import os\n",
        "import pandas as pd\n",
        "import numpy as np\n",
        "import gc\n",
        "import sys\n",
        "import re\n",
        "!pip install -q transformers\n",
        "from transformers import AutoTokenizer, AutoModel\n",
        "import torch\n",
        "!pip install -q scann\n",
        "import scann\n",
        "from google.colab import drive"
      ],
      "execution_count": 2,
      "outputs": []
    },
    {
      "cell_type": "markdown",
      "metadata": {
        "id": "BfgHSN1bqfHS"
      },
      "source": [
        "## Fetch Data from github"
      ]
    },
    {
      "cell_type": "code",
      "metadata": {
        "id": "ApFU9yJKx-ws"
      },
      "source": [
        "# https://github.com/chinese-poetry/chinese-poetry\n",
        "POEM_CONTENT = {\n",
        "    'tang': {\n",
        "        'total': 58,\n",
        "        'pattern': \"https://raw.githubusercontent.com/chinese-poetry/chinese-poetry/master/json/poet.tang.{0}.json\"\n",
        "    },\n",
        "    'song': {\n",
        "        'total': 255,\n",
        "        'pattern': \"https://raw.githubusercontent.com/chinese-poetry/chinese-poetry/master/json/poet.song.{0}.json\"\n",
        "    }\n",
        "}\n",
        "\n",
        "def get_poems(is_test=True, verbose=True):\n",
        "  df_list = []\n",
        "  for dynasty in POEM_CONTENT:\n",
        "    size = 3 if is_test else POEM_CONTENT[dynasty]['total']\n",
        "    pbar = tqdm(total=size, desc=\"Dynasty \" + dynasty)\n",
        "    for i in range(size):\n",
        "      url = POEM_CONTENT[dynasty]['pattern'].format(i * 1000)\n",
        "      if verbose:\n",
        "        print(f\"download {url} now\")\n",
        "      df_list.append(pd.read_json(url))\n",
        "      pbar.update(1)\n",
        "  return pd.concat(df_list)"
      ],
      "execution_count": 3,
      "outputs": []
    },
    {
      "cell_type": "code",
      "metadata": {
        "colab": {
          "base_uri": "https://localhost:8080/",
          "height": 81,
          "referenced_widgets": [
            "d81190abe7104d318a82a59daac85018",
            "a0a63e1ac7d34a37afa1474055a65836",
            "8368525cc371484482c5df594b303daf",
            "093ce8e350494ec7a174370e25c751e0",
            "d2296b14f9b94032baca9796294f51a7",
            "0bf9e72eea7748899b5de9437c7c8824",
            "a760b7fe00304eb3abf9c6fdb73fa64b",
            "b456042080664d758b9fa9ed801761dd",
            "27c1e9d7476e401eba481edfc30f2f91",
            "31de6ecfbb734f289bf63cecc110e19a",
            "3d7b70c6497340a78d721379676093bd",
            "15911ce611b44466bfa34eee95c203db",
            "9b051af280c74b9095b05dfeb48732a5",
            "9cb5706e111c4b51b08088397542730d",
            "c73e62f8377f46418149a15cbc490861",
            "87030560b04444d08402aa3a91df716d"
          ]
        },
        "id": "pQf1tWhZyAWg",
        "outputId": "c456fe73-e53e-4e53-c0be-0cdca1b980cc"
      },
      "source": [
        "df = get_poems(is_test=False, verbose=False)"
      ],
      "execution_count": 4,
      "outputs": [
        {
          "output_type": "display_data",
          "data": {
            "application/vnd.jupyter.widget-view+json": {
              "model_id": "d81190abe7104d318a82a59daac85018",
              "version_minor": 0,
              "version_major": 2
            },
            "text/plain": [
              "HBox(children=(FloatProgress(value=0.0, description='Dynasty tang', max=58.0, style=ProgressStyle(description_…"
            ]
          },
          "metadata": {
            "tags": []
          }
        },
        {
          "output_type": "display_data",
          "data": {
            "application/vnd.jupyter.widget-view+json": {
              "model_id": "27c1e9d7476e401eba481edfc30f2f91",
              "version_minor": 0,
              "version_major": 2
            },
            "text/plain": [
              "HBox(children=(FloatProgress(value=0.0, description='Dynasty song', max=255.0, style=ProgressStyle(description…"
            ]
          },
          "metadata": {
            "tags": []
          }
        }
      ]
    },
    {
      "cell_type": "markdown",
      "metadata": {
        "id": "xDIGpbSqqm6x"
      },
      "source": [
        "## Transform to simplified Chinese and cleaning"
      ]
    },
    {
      "cell_type": "code",
      "metadata": {
        "id": "v_i0amuvyFfD"
      },
      "source": [
        "df['concat_paragraphs'] = [''.join(map(str, l)) for l in df['paragraphs']]"
      ],
      "execution_count": 5,
      "outputs": []
    },
    {
      "cell_type": "code",
      "metadata": {
        "id": "W05fzSr7ydMm"
      },
      "source": [
        "def convert_schinese(tchinese):\n",
        "  return chinese_converter.to_simplified(tchinese)"
      ],
      "execution_count": 6,
      "outputs": []
    },
    {
      "cell_type": "code",
      "metadata": {
        "id": "oOq80VfRyfOm"
      },
      "source": [
        "df['s_content'] = df.apply(lambda row: convert_schinese(''.join(row.concat_paragraphs)), axis=1)\n",
        "df['s_title'] = df.apply(lambda row: convert_schinese(''.join(row.title)), axis=1)\n",
        "df['s_author'] = df.apply(lambda row: convert_schinese(''.join(row.author)), axis=1)"
      ],
      "execution_count": 7,
      "outputs": []
    },
    {
      "cell_type": "code",
      "metadata": {
        "id": "ywGpoUSXyQSf"
      },
      "source": [
        "my_df = df[['s_content', 's_title', 's_author']].copy()"
      ],
      "execution_count": 8,
      "outputs": []
    },
    {
      "cell_type": "code",
      "metadata": {
        "colab": {
          "base_uri": "https://localhost:8080/",
          "height": 49,
          "referenced_widgets": [
            "1d722333afb54bbe8ef534063bc52371",
            "ad34db12364c455d9e6e5b357a509177",
            "5ee5c1cfde6a44a09cffb79cc7f234ad",
            "cc5f7e66cfcb418f9531643f44344bed",
            "441e2c7747f844489a90c11a451183ad",
            "3435c9832c434f46a5fd6e1f31af61f2",
            "bd2048ad4ee647f2a2fc7b47869e63d0",
            "f2a89fe2fd814488b15d3aa5e142e474"
          ]
        },
        "id": "Y8t0cZQqer_j",
        "outputId": "e872ed13-46de-4891-cd0a-52d55b15f895"
      },
      "source": [
        "SPLIT_STR = '。|！|？|\\t|\\n|\\r'\n",
        "converted_sents = []\n",
        "pbar = tqdm(total=len(df), desc=\"break up into sentences\")\n",
        "for idx, row in df.iterrows():\n",
        "  res = re.split(SPLIT_STR, row['s_content'])\n",
        "  for s in res:\n",
        "    if s.strip() != \"\":\n",
        "      converted_sents.append({\n",
        "          \"s_content\": row['s_content'],\n",
        "          'piece': s,\n",
        "          's_author': row['s_author'],\n",
        "          's_title': row['s_title'],\n",
        "      })\n",
        "  pbar.update(1)\n",
        "\n",
        "sent_pd = pd.DataFrame(converted_sents)\n",
        "sent_pd['piece_len'] = sent_pd.piece.str.len()"
      ],
      "execution_count": 9,
      "outputs": [
        {
          "output_type": "display_data",
          "data": {
            "application/vnd.jupyter.widget-view+json": {
              "model_id": "1d722333afb54bbe8ef534063bc52371",
              "version_minor": 0,
              "version_major": 2
            },
            "text/plain": [
              "HBox(children=(FloatProgress(value=0.0, description='break up into sentences', max=311860.0, style=ProgressSty…"
            ]
          },
          "metadata": {
            "tags": []
          }
        }
      ]
    },
    {
      "cell_type": "code",
      "metadata": {
        "id": "98C7o3PXiMC_"
      },
      "source": [
        "# Empirically set thresholds of 'valid' poem sentence pieces\n",
        "MAX_SENTENCE_LENGTH = 30\n",
        "MIN_SENTENCE_LENGTH = 8"
      ],
      "execution_count": 10,
      "outputs": []
    },
    {
      "cell_type": "code",
      "metadata": {
        "id": "Q8ugRGsViBET"
      },
      "source": [
        "clean_sent_pd = sent_pd[sent_pd.piece_len <= MAX_SENTENCE_LENGTH].copy()\n",
        "clean_sent_pd = clean_sent_pd[clean_sent_pd.piece_len >= MIN_SENTENCE_LENGTH].copy()"
      ],
      "execution_count": 11,
      "outputs": []
    },
    {
      "cell_type": "code",
      "metadata": {
        "colab": {
          "base_uri": "https://localhost:8080/"
        },
        "id": "h1SVBtcoiHFW",
        "outputId": "40b7de36-168a-4b63-89bc-b55e038e5275"
      },
      "source": [
        "my_df = clean_sent_pd.copy()\n",
        "len(my_df)"
      ],
      "execution_count": 12,
      "outputs": [
        {
          "output_type": "execute_result",
          "data": {
            "text/plain": [
              "1354444"
            ]
          },
          "metadata": {
            "tags": []
          },
          "execution_count": 12
        }
      ]
    },
    {
      "cell_type": "code",
      "metadata": {
        "colab": {
          "base_uri": "https://localhost:8080/"
        },
        "id": "3eNMwcDQyGqJ",
        "outputId": "d56eb778-d5b9-412a-ca60-ce96b4c188f3"
      },
      "source": [
        "# omit bad chars\n",
        "OMIT_CHARS = \"()（）[]［］●⿰〔〕〖〗［］Ｂ=/…「」x{}《》、”：0123456789○『』\"\n",
        "\n",
        "def trim_author_fn(row):\n",
        "  return row.s_author[:4]\n",
        "\n",
        "def trim_title_fn(row):\n",
        "  trimed_title = row.s_title[:12].replace(\" \", \"\").replace(\"(\", \"\").replace(\")\", \"\")\n",
        "  return trimed_title\n",
        "\n",
        "def trim_piece_fn(row, feature):\n",
        "  trimed_content = row[feature]\n",
        "  for token in OMIT_CHARS:\n",
        "    trimed_content = trimed_content.replace(token, \"\")\n",
        "  return trimed_content\n",
        "\n",
        "# Trim the size\n",
        "my_df['s_author'] = my_df.apply(trim_author_fn, axis=1)\n",
        "my_df['s_title'] = my_df.apply(trim_title_fn, axis=1)\n",
        "my_df['s_content'] = my_df.apply(lambda r : trim_piece_fn(r, 's_content'), axis=1)\n",
        "my_df['piece'] = my_df.apply(lambda r : trim_piece_fn(r, 'piece'), axis=1)\n",
        "\n",
        "print(\"before filter:\", len(my_df))\n",
        "my_df = my_df[my_df.s_author != '']\n",
        "my_df = my_df[my_df.s_title != '']\n",
        "my_df = my_df[my_df.s_content != '']\n",
        "my_df = my_df[my_df.piece != '']\n",
        "my_df = my_df[~my_df.s_content.str.contains(\"□\")] # unrecognized chars, ignore\n",
        "print(\"after filter:\", len(my_df))"
      ],
      "execution_count": 13,
      "outputs": [
        {
          "output_type": "stream",
          "text": [
            "before filter: 1354444\n",
            "after filter: 1340301\n"
          ],
          "name": "stdout"
        }
      ]
    },
    {
      "cell_type": "markdown",
      "metadata": {
        "id": "oegAoUWctSOS"
      },
      "source": [
        "## HuggingFace AutoModel to load guwen bert"
      ]
    },
    {
      "cell_type": "code",
      "metadata": {
        "colab": {
          "base_uri": "https://localhost:8080/"
        },
        "id": "NPc_HOtQ1ksa",
        "outputId": "c27fa881-de7c-4156-c8f5-f57303129019"
      },
      "source": [
        "# See https://github.com/ethan-yt/guwenbert/blob/main/README_EN.md\n",
        "tokenizer = AutoTokenizer.from_pretrained(\"ethanyt/guwenbert-base\")\n",
        "model = AutoModel.from_pretrained(\"ethanyt/guwenbert-base\", output_hidden_states=True)\n",
        "gpu_model = model.to('cuda')"
      ],
      "execution_count": 14,
      "outputs": [
        {
          "output_type": "stream",
          "text": [
            "Some weights of the model checkpoint at ethanyt/guwenbert-base were not used when initializing RobertaModel: ['lm_head.dense.bias', 'lm_head.decoder.weight', 'lm_head.layer_norm.bias', 'lm_head.bias', 'lm_head.layer_norm.weight', 'lm_head.dense.weight', 'lm_head.decoder.bias']\n",
            "- This IS expected if you are initializing RobertaModel from the checkpoint of a model trained on another task or with another architecture (e.g. initializing a BertForSequenceClassification model from a BertForPreTraining model).\n",
            "- This IS NOT expected if you are initializing RobertaModel from the checkpoint of a model that you expect to be exactly identical (initializing a BertForSequenceClassification model from a BertForSequenceClassification model).\n"
          ],
          "name": "stderr"
        }
      ]
    },
    {
      "cell_type": "markdown",
      "metadata": {
        "id": "4fZHLTsit0tw"
      },
      "source": [
        "## Fetch all sentence embeddings by calling guwenBERT model"
      ]
    },
    {
      "cell_type": "code",
      "metadata": {
        "id": "hVyh42S6wEO1"
      },
      "source": [
        "# Change to smaller number such as 100k if you see OOM (or colab just restarts)\n",
        "SAMPLE_SIZE = len(my_df) # 100_000"
      ],
      "execution_count": 15,
      "outputs": []
    },
    {
      "cell_type": "code",
      "metadata": {
        "id": "8uJEj_NKu3Nq"
      },
      "source": [
        "# use last n layers' sum and average per token, so each string has\\\n",
        "# 768 * n * #token size embeddings.\n",
        "# literature says last concat last 4 is best, last 1 is a good start here.\n",
        "LAST_N = 1\n",
        "last_layers = [-i for i in range(1, LAST_N + 1)]  # -1, -2, ....\n",
        "\n",
        "def get_bert_embedding(in_strs):\n",
        "  inputs = tokenizer(in_strs, padding=True, truncation=True,\n",
        "      return_tensors=\"pt\", max_length=MAX_SENTENCE_LENGTH+2).to('cuda:0')\n",
        "  with torch.no_grad(): # absolutely required to avoid OOM\n",
        "    outputs = gpu_model(**inputs)\n",
        "  last_n_layers = [outputs['hidden_states'][i] for i in last_layers]\n",
        "  cat_hidden_states = torch.cat(tuple(last_n_layers), dim=-1)\n",
        "  cat_sentence_embedding = torch.mean(cat_hidden_states, dim=1).squeeze()\n",
        "  return cat_sentence_embedding"
      ],
      "execution_count": 16,
      "outputs": []
    },
    {
      "cell_type": "code",
      "metadata": {
        "colab": {
          "base_uri": "https://localhost:8080/",
          "height": 49,
          "referenced_widgets": [
            "009de95f30e44351adf5aa63da53e684",
            "a8df418fe9404a369cadf97c10cdf602",
            "9bc5d424f6f54b52a01286fb5651e93c",
            "4b60cf6b177641259be61d1f6c235a74",
            "e42ba7e4f6fb416a9d2eb32ab3dc0194",
            "5fa59553fc734558a924631e28ddcde7",
            "ac66a5526c124164b26a9562f95cd521",
            "d9040317a58d449381b59180dcd5bf77"
          ]
        },
        "id": "iJyKhaCjPBue",
        "outputId": "c4a4949b-e1b7-4bdb-be97-18acb5c3beaf"
      },
      "source": [
        "# Fetch embedding for 1.3m sentences\n",
        "\n",
        "# About 15 mins to fetch embeddings for 1.3M poem sentence pieces\n",
        "# so roughly 1300k/1200 = 1.1k record inferences per second (Tesla P100), \n",
        "# CPU is too low, TPU does not support\n",
        "batch_size = 2048 # ~max batch size for gpu-ram=16G\n",
        "all_pieces = list(my_df.piece.values)\n",
        "all_pieces = all_pieces[:SAMPLE_SIZE]\n",
        "\n",
        "out_embedding_np = None\n",
        "pbar = tqdm(total=len(all_pieces), desc=\"Fetch embeddings\")\n",
        "for i in range(0, len(all_pieces), batch_size):\n",
        "  start_idx = i\n",
        "  end_idx = min(start_idx + batch_size, len(all_pieces))\n",
        "  embeddings = get_bert_embedding(all_pieces[start_idx:end_idx])\n",
        "  if out_embedding_np is None:\n",
        "    out_embedding_np = embeddings.detach().cpu().numpy()\n",
        "  else:\n",
        "    out_embedding_np = np.append(\n",
        "        out_embedding_np, embeddings.detach().cpu().numpy(), axis=0)\n",
        "  pbar.update(end_idx - start_idx)\n",
        "  # Additional safeguard to avoid OOM\n",
        "  gc.collect()\n",
        "  torch.cuda.empty_cache()"
      ],
      "execution_count": 17,
      "outputs": [
        {
          "output_type": "display_data",
          "data": {
            "application/vnd.jupyter.widget-view+json": {
              "model_id": "009de95f30e44351adf5aa63da53e684",
              "version_minor": 0,
              "version_major": 2
            },
            "text/plain": [
              "HBox(children=(FloatProgress(value=0.0, description='Fetch embeddings', max=1340301.0, style=ProgressStyle(des…"
            ]
          },
          "metadata": {
            "tags": []
          }
        }
      ]
    },
    {
      "cell_type": "code",
      "metadata": {
        "id": "ikCg3dyiv3j_"
      },
      "source": [
        "assert out_embedding_np.shape == (len(all_pieces), 768 * LAST_N)"
      ],
      "execution_count": 18,
      "outputs": []
    },
    {
      "cell_type": "markdown",
      "metadata": {
        "id": "tZtX-u7Mf2Lp"
      },
      "source": [
        "## [optional] Persist embedding for reuse to save time for embedding lookup"
      ]
    },
    {
      "cell_type": "code",
      "metadata": {
        "id": "VBnl9V-2uy-a"
      },
      "source": [
        "# drive.mount('/content/gdrive')\n",
        "# !mkdir -p /content/gdrive/MyDrive/ML/Data/ch_poem_search_sent_embed_20210727\n",
        "# my_df.to_pickle('/content/gdrive/MyDrive/ML/Data/ch_poem_search_sent_embed_20210727/mydf.pickle')\n",
        "# np.save('/content/gdrive/MyDrive/ML/Data/ch_poem_search_sent_embed_20210727/embedding.npy', out_embedding_np)\n",
        "# !ls -l /content/gdrive/MyDrive/ML/Data/ch_poem_search_sent_embed_20210727\n",
        "\n",
        "# If reload embedding and dataframe from savings\n",
        "# my_df = pd.read_pickle('drive/MyDrive/ML/Data/ch_poem_search_sent_embed_20210727/mydf.pickle')\n",
        "# out_embedding_np = np.load('drive/MyDrive/ML/Data/ch_poem_search_sent_embed_20210727/embedding.npy')"
      ],
      "execution_count": 19,
      "outputs": []
    },
    {
      "cell_type": "markdown",
      "metadata": {
        "id": "ql1shKue3PLM"
      },
      "source": [
        "## ScaNN for fast nearest neighbor search"
      ]
    },
    {
      "cell_type": "code",
      "metadata": {
        "id": "unIzPBhbxJWj"
      },
      "source": [
        "def create_searcher(normalized_embeddings, # size matters, 1/2 size results in 2/3 time\n",
        "                    num_leaves=1000, # 1/2 size = 2/3 time, recommend ~sqrt(size)\n",
        "                    num_leaves_to_search=100, # not affect build time\n",
        "                    reorder_size=20, # not affect build time\n",
        "                    min_partition_size=50, # not affect build time\n",
        "                    training_iterations=12, # slightly affect build time\n",
        "                    neighbor_size=10, # not affect build time\n",
        "                    search_func=\"dot_product\"): # seems the best option after tried\n",
        "  \"\"\"Creates scann searcher. Params briefly tested, comments may be wrong.\"\"\"\n",
        "  search_builder = scann.scann_ops_pybind.builder(\n",
        "      normalized_embeddings, neighbor_size, search_func)\n",
        "  search_builder = search_builder.tree(\n",
        "      num_leaves=num_leaves,\n",
        "      num_leaves_to_search=num_leaves_to_search,\n",
        "      training_sample_size=normalized_embeddings.shape[0],\n",
        "      min_partition_size=min_partition_size,\n",
        "      training_iterations=training_iterations)\n",
        "  search_builder = search_builder.score_ah(\n",
        "      2, anisotropic_quantization_threshold=0.2)\n",
        "  search_builder = search_builder.reorder(reorder_size)\n",
        "  searcher = search_builder.build()\n",
        "  return searcher"
      ],
      "execution_count": 20,
      "outputs": []
    },
    {
      "cell_type": "code",
      "metadata": {
        "id": "REnTLbdDZCkR",
        "colab": {
          "base_uri": "https://localhost:8080/"
        },
        "outputId": "5b18979e-f8a7-4e62-cd2f-5b7137c91c8b"
      },
      "source": [
        "%%time\n",
        "print(\"Est time: \", 2 * (out_embedding_np.shape[0] // 1000), \"secs\")\n",
        "normalized_embedding_np = out_embedding_np / np.linalg.norm(out_embedding_np, axis=1)[:, np.newaxis]\n",
        "scann_searcher = create_searcher(normalized_embedding_np)"
      ],
      "execution_count": 22,
      "outputs": [
        {
          "output_type": "stream",
          "text": [
            "Est time:  2680 secs\n",
            "CPU times: user 29min 25s, sys: 11 s, total: 29min 36s\n",
            "Wall time: 7min 55s\n"
          ],
          "name": "stdout"
        }
      ]
    },
    {
      "cell_type": "markdown",
      "metadata": {
        "id": "KY7Ant3Syr9p"
      },
      "source": [
        "## Sup method for inference Test"
      ]
    },
    {
      "cell_type": "code",
      "metadata": {
        "id": "i8YwRdjjyucH"
      },
      "source": [
        "sents = my_df.piece.values\n",
        "authors = my_df.s_author.values\n",
        "titles = my_df.s_title.values\n",
        "contents = my_df.s_content.values\n",
        "\n",
        "def query_poem_now(input_str,\n",
        "                   scann_searcher=scann_searcher,\n",
        "                   size=10):\n",
        "  \"\"\"Fetch embedding, ask scann the nearest neighbors and format.\"\"\"\n",
        "  inp_embedding = get_bert_embedding(input_str)\n",
        "  neighbors, distances = scann_searcher.search(\n",
        "      inp_embedding.detach().cpu().numpy(), final_num_neighbors=size)\n",
        "  print(f\"输入：\\x1b[34m{input_str}\\x1b[0m\")\n",
        "  id = 1\n",
        "  for n, d in zip(neighbors, distances):\n",
        "    content = contents[n]\n",
        "    if content.find(sents[n]) > 40:\n",
        "      content = \"...\" + content[content.find(sents[n]):]\n",
        "    content = content.replace(sents[n], f\"[\\x1b[31m{sents[n]}\\x1b[0m]\")\n",
        "    if (len(content) > 80):\n",
        "      content = content[:80] + \"...\"\n",
        "    print(f\"{id}: {authors[n]} [{titles[n]}]\\n{content}\")\n",
        "    id += 1\n",
        "  print()"
      ],
      "execution_count": 64,
      "outputs": []
    },
    {
      "cell_type": "markdown",
      "metadata": {
        "id": "jAxCsiHr0v4r"
      },
      "source": [
        "## Inference"
      ]
    },
    {
      "cell_type": "code",
      "metadata": {
        "colab": {
          "base_uri": "https://localhost:8080/"
        },
        "id": "9ctebYq3zBjF",
        "outputId": "59e54190-7af4-41e5-8baf-f1b0c39653e7"
      },
      "source": [
        "%%time\n",
        "for query in [\"你看那长江的水从天上来\", \"忆长安\", \"月有圆缺\", \"九歌\"]:\n",
        "  query_poem_now(query, size=3)"
      ],
      "execution_count": 81,
      "outputs": [
        {
          "output_type": "stream",
          "text": [
            "输入：\u001b[34m你看那长江的水从天上来\u001b[0m\n",
            "1: 李白 [鼓吹曲辞将进酒]\n",
            "[\u001b[31m君不见黄河之水天上来，奔流到海不复回\u001b[0m]。君不见高堂明镜悲白发，朝如青丝暮成雪。人生得意须尽欢，莫使金尊空对月。天生我材必有用，千金散尽还复来...\n",
            "2: 马之纯 [新亭其二]\n",
            "[\u001b[31m新亭见说在山头，看见江河衮衮流\u001b[0m]。何事后人轻变改，不教遗址且存留。怜他一代称贤相，说此诸人似楚囚。若使有人来访旧，一番人见一番羞。\n",
            "3: 释善果 [偈其五]\n",
            "[\u001b[31m苏州有，常州有，吸尽西江只一口\u001b[0m]。百八数珠数不尽，须知天长与地久。腾今焕古作嘉祥，一一面南看北斗。\n",
            "\n",
            "输入：\u001b[34m忆长安\u001b[0m\n",
            "1: 宋祁 [农阁]\n",
            "菌阁俯江干，西南蜀塞宽。[\u001b[31m看云记巫峡，望日省长安\u001b[0m]。钿崒峰头碧，霞皴荔子丹。比来秋物好，谁伴数凭栏。\n",
            "2: 徐凝 [寄白司马]\n",
            "三条九陌花时节，万户千车看牡丹。[\u001b[31m争遣江州白司马，五年风景忆长安\u001b[0m]。\n",
            "3: 崔涂 [春晚怀进士韦澹]\n",
            "故里花应尽，江楼夢尚残。半生吟欲过，一命达何难。特立珪无玷，相思草有兰。[\u001b[31m二年春怅望，不似在长安\u001b[0m]。\n",
            "\n",
            "输入：\u001b[34m月有圆缺\u001b[0m\n",
            "1: 王义山 [赠心月相士]\n",
            "...[\u001b[31m嗟彼天上月，有圆阙阴晴\u001b[0m]。惟有心月月，天者常清明。持此以鉴人，妍媸奚所遁。此月不在天，月在尔方寸。\n",
            "2: 释智愚 [偈颂二十五首其八]\n",
            "[\u001b[31m一年有十二箇月，每月一度团圆，其余尽是缺\u001b[0m]。中间晦明出没，太半有不见者。惟有今宵，分外皎洁。无物堪比伦，教我如何说。\n",
            "3: 崔萱 [古意]\n",
            "灼灼叶中花，夏萎春又芳。[\u001b[31m明明天上月，蟾缺圆复光\u001b[0m]。未如君子情，朝违夕已忘。玉帐枕犹暖，纨扇思何长。愿因西南风，吹上玳瑁牀。娇眠锦衾裏，展转双...\n",
            "\n",
            "输入：\u001b[34m九歌\u001b[0m\n",
            "1: 欧阳修 [江上弹琴]\n",
            "...[\u001b[31m咏歌文王雅，怨刺离骚经\u001b[0m]。二典意澹薄，三盘语丁宁。琴声虽可状，琴意谁可听。\n",
            "2: 范成大 [浮湘行]\n",
            "...[\u001b[31m九歌凄悲不可听，愿赓楚调归和平\u001b[0m]。\n",
            "3: 宋庠 [屈原其二]\n",
            "[\u001b[31m司命湘君各有情，九歌愁苦荐新声\u001b[0m]。如何不救沉江祸，枉解堂中许目成。\n",
            "\n",
            "CPU times: user 51 ms, sys: 1.02 ms, total: 52 ms\n",
            "Wall time: 50.2 ms\n"
          ],
          "name": "stdout"
        }
      ]
    }
  ]
}